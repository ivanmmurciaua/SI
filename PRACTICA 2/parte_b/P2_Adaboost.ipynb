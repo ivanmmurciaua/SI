{
  "nbformat": 4,
  "nbformat_minor": 0,
  "metadata": {
    "colab": {
      "name": "P2 Adaboost.ipynb",
      "version": "0.3.2",
      "provenance": [],
      "collapsed_sections": []
    },
    "kernelspec": {
      "name": "python3",
      "display_name": "Python 3"
    }
  },
  "cells": [
    {
      "metadata": {
        "id": "L4JCfeNYIFAA",
        "colab_type": "text"
      },
      "cell_type": "markdown",
      "source": [
        " # Práctica 2 de Sistemas Inteligentes.\n",
        "\n",
        " Clasificación de imagenes fashion-MNIST mediante AdaBoost.\n",
        " \n",
        "* La forma más sencilla de clasificar objetos distribuidos en un espacio es dividir el espacio en dos partes y especificar que los objetos que quedan a un lado se van a clasificar según una clase y los objetos que quedan al otro lado según la otra clase. Esto es posible realizarlo de manera muy sencilla utilizando un umbral. Los umbrales pueden ser positivos o negativos y especifican para un determinado pixel (solo uno) el rango aceptable para el mismo. \n",
        "\n",
        "En este Notebook se incluye el código de Adaboost y la implementación de un clasificador débil de umbral. **Se debe implementar el clasificador de débil de hiperplanos y completar la sección de experimentación**.\n",
        "\n",
        "\n"
      ]
    },
    {
      "metadata": {
        "id": "AjK5sSxrEX_C",
        "colab_type": "text"
      },
      "cell_type": "markdown",
      "source": [
        "Incluimos las librerias necesarias para obtener la base de datos, y realizar representaciones gráficas"
      ]
    },
    {
      "metadata": {
        "id": "LOvJSoe_EYy9",
        "colab_type": "code",
        "colab": {}
      },
      "cell_type": "code",
      "source": [
        "%matplotlib inline\n",
        "import numpy as np\n",
        "import matplotlib.pyplot as plt \n",
        "import os\n"
      ],
      "execution_count": 0,
      "outputs": []
    },
    {
      "metadata": {
        "id": "6We615TLEZ_O",
        "colab_type": "code",
        "colab": {
          "base_uri": "https://localhost:8080/",
          "height": 34
        },
        "outputId": "72ee13e4-21a1-4604-f08f-f9506b23b43a"
      },
      "cell_type": "code",
      "source": [
        "from keras.datasets import fashion_mnist\n",
        "(x_train, y_train), (x_test, y_test) = fashion_mnist.load_data()"
      ],
      "execution_count": 2,
      "outputs": [
        {
          "output_type": "stream",
          "text": [
            "Using TensorFlow backend.\n"
          ],
          "name": "stderr"
        }
      ]
    },
    {
      "metadata": {
        "id": "nbyQe1ThIYtJ",
        "colab_type": "text"
      },
      "cell_type": "markdown",
      "source": [
        "Observamos el tamaño de la libreria cargada. Utilizaremos solo las primeras 4000 imágenes para coincidir con la parte básica de la práctica 2 desarrollada en java"
      ]
    },
    {
      "metadata": {
        "id": "snAWNKRlEr8u",
        "colab_type": "code",
        "colab": {
          "base_uri": "https://localhost:8080/",
          "height": 34
        },
        "outputId": "4f7aff4c-c036-4617-afd0-3312a6eccb68"
      },
      "cell_type": "code",
      "source": [
        "x_train.shape,y_train.shape"
      ],
      "execution_count": 3,
      "outputs": [
        {
          "output_type": "execute_result",
          "data": {
            "text/plain": [
              "((60000, 28, 28), (60000,))"
            ]
          },
          "metadata": {
            "tags": []
          },
          "execution_count": 3
        }
      ]
    },
    {
      "metadata": {
        "id": "mmeIs667ItKF",
        "colab_type": "text"
      },
      "cell_type": "markdown",
      "source": [
        "En google colab (jupyter notebook) es muy fácil poder visualizar gráficas e imágenes. Vamos a ver el segundo elemento del conjunto de entrenamiento:"
      ]
    },
    {
      "metadata": {
        "id": "3AK_BcCdE2ih",
        "colab_type": "code",
        "colab": {
          "base_uri": "https://localhost:8080/",
          "height": 282
        },
        "outputId": "65f5fd81-da59-4391-fca0-6d088dbb6fdb"
      },
      "cell_type": "code",
      "source": [
        "plt.imshow(x_train[1]),y_train[1]"
      ],
      "execution_count": 4,
      "outputs": [
        {
          "output_type": "execute_result",
          "data": {
            "text/plain": [
              "(<matplotlib.image.AxesImage at 0x7f29dc253cc0>, 0)"
            ]
          },
          "metadata": {
            "tags": []
          },
          "execution_count": 4
        },
        {
          "output_type": "display_data",
          "data": {
            "image/png": "[encoded data removed]",
            "text/plain": [
              "<matplotlib.figure.Figure at 0x7f29e7e7b0b8>"
            ]
          },
          "metadata": {
            "tags": []
          }
        }
      ]
    },
    {
      "metadata": {
        "id": "QcRhFJHWI3jO",
        "colab_type": "text"
      },
      "cell_type": "markdown",
      "source": [
        "# Algoritmo Adaboost\n",
        "A continuación se presenta una implementación del algoritmo Adaboost"
      ]
    },
    {
      "metadata": {
        "id": "2IP1brcPE5GY",
        "colab_type": "code",
        "colab": {}
      },
      "cell_type": "code",
      "source": [
        "def adaboost(X,Y,T,random_trainer_iterations,weak_generator,weak_error):\n",
        "    \n",
        "    N = len(X)\n",
        "    h = np.zeros([T, 3], dtype=np.double)\n",
        "    alpha = np.zeros(T, dtype=np.double)\n",
        "    err = np.ones(T, dtype=np.double) * np.inf\n",
        "    \n",
        "    #Distribución inicialmente uniforme\n",
        "    D = np.ones(N, dtype=np.double)/N  \n",
        "    \n",
        "    for i in range(T):\n",
        "        for rti in range(random_trainer_iterations):\n",
        "            h_tmp = weak_generator();\n",
        "            [err_tmp,y_tmp] = weak_error(h_tmp,X,Y,D)\n",
        "            if(err_tmp<err[i]):\n",
        "                h[i] = h_tmp\n",
        "                err[i] = err_tmp\n",
        "                y_t = y_tmp\n",
        "            \n",
        "        \n",
        "        alpha[i] = 0.5 * np.log((1.0 - err[i]) / err[i])\n",
        "        y_t[np.where(y_t == 0)] = -1 # y_t contiene 1 en los errores \n",
        "                                     #y -1 el los aciertos, por lo que cambiare...\n",
        "        \n",
        "        # .. el signo de y_t (se podria cambiar solo el de alpha)\n",
        "        D = np.double(D * np.exp(-alpha[i] * -y_t))  \n",
        "       \n",
        "        D = D/np.sum(D)  # Normalise reassigned weights\n",
        "        \n",
        "    return [h,alpha]   "
      ],
      "execution_count": 0,
      "outputs": []
    },
    {
      "metadata": {
        "id": "OOvayGM5JLha",
        "colab_type": "text"
      },
      "cell_type": "markdown",
      "source": [
        "A continuación se presenta el clasificador fuerte que se obtendrá a partir de Adaboost"
      ]
    },
    {
      "metadata": {
        "id": "8RtUqgyOGF0T",
        "colab_type": "code",
        "colab": {}
      },
      "cell_type": "code",
      "source": [
        "def strong_classify_image(classifier,weak_apply, X):\n",
        "    [h,alpha] = classifier\n",
        "    N = len(X)\n",
        "        \n",
        "    fuerte = []\n",
        "    for i in range(len(alpha)):\n",
        "        h_res = weak_apply(h[i],X)\n",
        "        if (i==0):\n",
        "            fuerte = np.double(alpha[i] * h_res)\n",
        "        else:\n",
        "            fuerte = fuerte + np.double(alpha[i] * h_res)\n",
        "        #from IPython.core.debugger import Tracer; Tracer()()\n",
        "        \n",
        "    f = np.sign(fuerte)\n",
        "    return f\n",
        "        \n",
        "    "
      ],
      "execution_count": 0,
      "outputs": []
    },
    {
      "metadata": {
        "id": "x7pctdMsGMK2",
        "colab_type": "text"
      },
      "cell_type": "markdown",
      "source": [
        "## Definición de los clasificadores débiles como umbral para un pixel de la imagen"
      ]
    },
    {
      "metadata": {
        "id": "KzzkWv0LGLPF",
        "colab_type": "code",
        "colab": {}
      },
      "cell_type": "code",
      "source": [
        "def generate_weak_threshold():\n",
        "    ht = np.zeros(3)\n",
        "    ht[0] = np.random.randint(28*28) #Pos. Img.\n",
        "    ht[1] = np.random.rand(1)*256    #Valor\n",
        "    ht[2] = np.sign(np.random.rand(1)*2-1)  #Direccion umbral\n",
        "    return ht;\n",
        "\n",
        "def apply_weak_threshold(ht,X):\n",
        "    k = int(ht[0])\n",
        "    if(ht[-1]>0):\n",
        "        t = X[:,k]>ht[1]\n",
        "    else: \n",
        "        t = X[:,k]<=ht[1]\n",
        "    \n",
        "    #Verifico que las condiciones se cumplan en todas las\n",
        "    #dimensiones (true si cumple, false si no)\n",
        "    t_all = np.int16(t)\n",
        "    t_all[np.where(t_all == 0)] = -1\n",
        "    \n",
        "    return t_all\n",
        "\n",
        "def error_weak_threshold(ht,X,Y,D=1):\n",
        "    k = int(ht[0])\n",
        "    if(ht[-1]>0):\n",
        "        t = X[:,k]>ht[1]\n",
        "    else: \n",
        "        t = X[:,k]<=ht[1]\n",
        "        \n",
        "    \n",
        "    #Verifico que las condiciones se cumplan en todas las dimensiones \n",
        "    # (true si cumple, false si no)\n",
        "    t_all = np.int16(t)\n",
        "    t_all[np.where(t_all == 0)] = -1\n",
        "    \n",
        "    #Obtengo el error con respecto a Y\n",
        "    errv = np.int64(t_all != Y)\n",
        "    errs = np.sum(errv * D)\n",
        "    \n",
        "    return [errs,errv]"
      ],
      "execution_count": 0,
      "outputs": []
    },
    {
      "metadata": {
        "id": "5zbVNTy3GT2e",
        "colab_type": "code",
        "colab": {
          "base_uri": "https://localhost:8080/",
          "height": 34
        },
        "outputId": "eda788b4-bd38-497e-9f76-42ec42398ce6"
      },
      "cell_type": "code",
      "source": [
        "ht = generate_weak_threshold()\n",
        "ht"
      ],
      "execution_count": 8,
      "outputs": [
        {
          "output_type": "execute_result",
          "data": {
            "text/plain": [
              "array([178.       , 195.6687237,  -1.       ])"
            ]
          },
          "metadata": {
            "tags": []
          },
          "execution_count": 8
        }
      ]
    },
    {
      "metadata": {
        "id": "qrnC9ehSMjjK",
        "colab_type": "text"
      },
      "cell_type": "markdown",
      "source": [
        "## Definición de los clasificadores débiles como plano\n",
        "Para hacer por el alumnado"
      ]
    },
    {
      "metadata": {
        "id": "z4MswN1QGoTA",
        "colab_type": "text"
      },
      "cell_type": "markdown",
      "source": [
        "# Entrenamiento para las primeras 4000 imágenes\n",
        "Obtengo un clasificador fuerte por conjunto. En esta implementación se gastan las 10 clases de la base de datos al completo (no las 8 que se gastan en la práctica de Java), con lo que los resultados pueden variar sobre esta. Es sencillo utilizar los mismos conjuntos de la implementación java si se desea..."
      ]
    },
    {
      "metadata": {
        "id": "n-xbYnXdGqaJ",
        "colab_type": "code",
        "colab": {
          "base_uri": "https://localhost:8080/",
          "height": 187
        },
        "outputId": "20cc9b1a-66f9-421c-86e1-69076230a0e5"
      },
      "cell_type": "code",
      "source": [
        "num_samples = 4000\n",
        "f = []\n",
        "for i in range(10):\n",
        "    Y = np.zeros(num_samples)\n",
        "    v_digit = y_train[0:num_samples]==i\n",
        "    v_else = y_train[0:num_samples]!=i\n",
        "    Y[v_digit] = 1\n",
        "    Y[v_else] = -1\n",
        "    X = x_train[0:num_samples].reshape(num_samples,28*28)\n",
        "    \n",
        "    #Obtengo el clasificador fuerte para el conjunto i\n",
        "    f.append(adaboost(X,Y,100,1000,generate_weak_threshold,error_weak_threshold))\n",
        "    print(\".\")"
      ],
      "execution_count": 15,
      "outputs": [
        {
          "output_type": "stream",
          "text": [
            ".\n",
            ".\n",
            ".\n",
            ".\n",
            ".\n",
            ".\n",
            ".\n",
            ".\n",
            ".\n",
            ".\n"
          ],
          "name": "stdout"
        }
      ]
    },
    {
      "metadata": {
        "id": "HtPZp_hYGz-D",
        "colab_type": "text"
      },
      "cell_type": "markdown",
      "source": [
        "Aplico el clasificador fuerte a todas las imágenes y obtengo el conjunto de clasificación"
      ]
    },
    {
      "metadata": {
        "id": "pOkgTKh5G00R",
        "colab_type": "code",
        "colab": {}
      },
      "cell_type": "code",
      "source": [
        "num_samples = 60000\n",
        "r = []\n",
        "for i in range(10):\n",
        "    Y = np.zeros(num_samples)\n",
        "    v_digit = y_train[0:num_samples]==i\n",
        "    v_else = y_train[0:num_samples]!=i\n",
        "    Y[v_digit] = 1\n",
        "    Y[v_else] = -1\n",
        "    X = x_train[0:num_samples].reshape(num_samples,28*28)\n",
        "    r.append(strong_classify_image(f[i],apply_weak_threshold,X))"
      ],
      "execution_count": 0,
      "outputs": []
    },
    {
      "metadata": {
        "id": "gHtvStiuG3rd",
        "colab_type": "code",
        "colab": {
          "base_uri": "https://localhost:8080/",
          "height": 34
        },
        "outputId": "39530977-afc2-4bd5-fc04-069327a84665"
      },
      "cell_type": "code",
      "source": [
        "r_all = np.vstack([r[0],r[1],r[2],r[3],r[4],r[5],r[6],r[7],r[8],r[9]])\n",
        "r_all.shape"
      ],
      "execution_count": 17,
      "outputs": [
        {
          "output_type": "execute_result",
          "data": {
            "text/plain": [
              "(10, 60000)"
            ]
          },
          "metadata": {
            "tags": []
          },
          "execution_count": 17
        }
      ]
    },
    {
      "metadata": {
        "id": "peEsxIsgG9w-",
        "colab_type": "text"
      },
      "cell_type": "markdown",
      "source": [
        "Transformo el vector de -1 y 1 a conjunto"
      ]
    },
    {
      "metadata": {
        "id": "vTzdl7m1G6wS",
        "colab_type": "code",
        "colab": {}
      },
      "cell_type": "code",
      "source": [
        "r_digits = []\n",
        "for i in range(r_all.shape[1]):\n",
        "    td = np.where(r_all[:,i]==1)\n",
        "    if(td[0].size==0):\n",
        "        rd = -1\n",
        "    else:\n",
        "        rd = td[0][0]\n",
        "    r_digits.append(rd)\n",
        "\n",
        "r_digits = np.asarray(r_digits)"
      ],
      "execution_count": 0,
      "outputs": []
    },
    {
      "metadata": {
        "id": "7Rwu30E_HAv1",
        "colab_type": "code",
        "colab": {
          "base_uri": "https://localhost:8080/",
          "height": 34
        },
        "outputId": "970e629d-b90b-4fb6-d29a-175ad544d61c"
      },
      "cell_type": "code",
      "source": [
        "r_digits"
      ],
      "execution_count": 19,
      "outputs": [
        {
          "output_type": "execute_result",
          "data": {
            "text/plain": [
              "array([ 9,  0, -1, ...,  3,  0,  5])"
            ]
          },
          "metadata": {
            "tags": []
          },
          "execution_count": 19
        }
      ]
    },
    {
      "metadata": {
        "id": "-m7fdYAqNL7h",
        "colab_type": "text"
      },
      "cell_type": "markdown",
      "source": [
        "Y obtengo la tasa de aciertos"
      ]
    },
    {
      "metadata": {
        "id": "7AA5jvi4NOHZ",
        "colab_type": "code",
        "colab": {
          "base_uri": "https://localhost:8080/",
          "height": 34
        },
        "outputId": "b1ee2ad7-c62b-4850-d544-b2a3f2394c29"
      },
      "cell_type": "code",
      "source": [
        "Y_d = y_train[0:num_samples]\n",
        "correct_digits = Y_d == r_digits\n",
        "np.sum(correct_digits)/(num_samples*1.0)"
      ],
      "execution_count": 20,
      "outputs": [
        {
          "output_type": "execute_result",
          "data": {
            "text/plain": [
              "0.73865"
            ]
          },
          "metadata": {
            "tags": []
          },
          "execution_count": 20
        }
      ]
    },
    {
      "metadata": {
        "id": "kSM6A2HJMtz_",
        "colab_type": "text"
      },
      "cell_type": "markdown",
      "source": [
        "# Experimentación\n",
        "Para hacer por el alumnado. Se valorará el uso de gráficas mediante *matplotlib*\n",
        "## Hiperplano\n",
        "### Obtener tasa de aciertos para un dígito\n",
        "### Obtener tasa de aciertos para varios dígitos\n",
        "## Umbral\n",
        "### Obtener tasa de aciertos para un dígito\n",
        "### Obtener tasa de aciertos para varios dígitos\n",
        "## Comparacios hiperplano vs umbral\n",
        "## Otras métricas"
      ]
    }
  ]
}